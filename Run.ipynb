{
 "cells": [
  {
   "cell_type": "code",
   "execution_count": null,
   "metadata": {},
   "outputs": [],
   "source": [
    "! python3 src/evaluation_scripts/experimental_setup.py \\\n",
    "  --query_strategy mapal-1-0.0001-2-1-entropy \\\n",
    "  --data_set medical \\\n",
    "  --results_path results/medical/csvs \\\n",
    "  --test_ratio 0.4 \\\n",
    "  --budget 0.4 \\\n",
    "  --seed 1"
   ]
  },
  {
   "cell_type": "code",
   "execution_count": null,
   "metadata": {},
   "outputs": [],
   "source": [
    "! python3 src/evaluation_scripts/experimental_setup.py \\\n",
    "  --query_strategy mapal-1-0.0001-2-1-entropy \\\n",
    "  --data_set reports-mozilla \\\n",
    "  --results_path results/reports-mozilla/csvs \\\n",
    "  --test_ratio 0.4 \\\n",
    "  --budget 0.4 \\\n",
    "  --seed 1"
   ]
  },
  {
   "cell_type": "code",
   "execution_count": null,
   "metadata": {},
   "outputs": [],
   "source": [
    "! python3 src/evaluation_scripts/experimental_setup.py \\\n",
    "  --query_strategy mapal-1-0.0001-2-1-entropy \\\n",
    "  --data_set reports-compendium \\\n",
    "  --results_path results/reports-compendium/csvs \\\n",
    "  --test_ratio 0.4 \\\n",
    "  --budget 0.4 \\\n",
    "  --seed 1"
   ]
  }
 ],
 "metadata": {
  "kernelspec": {
   "display_name": "base",
   "language": "python",
   "name": "python3"
  },
  "language_info": {
   "codemirror_mode": {
    "name": "ipython",
    "version": 3
   },
   "file_extension": ".py",
   "mimetype": "text/x-python",
   "name": "python",
   "nbconvert_exporter": "python",
   "pygments_lexer": "ipython3",
   "version": "3.10.8"
  },
  "orig_nbformat": 4
 },
 "nbformat": 4,
 "nbformat_minor": 2
}
